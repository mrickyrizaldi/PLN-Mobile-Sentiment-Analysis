{
  "nbformat": 4,
  "nbformat_minor": 0,
  "metadata": {
    "colab": {
      "provenance": []
    },
    "kernelspec": {
      "name": "python3",
      "display_name": "Python 3"
    },
    "language_info": {
      "name": "python"
    }
  },
  "cells": [
    {
      "cell_type": "code",
      "execution_count": null,
      "metadata": {
        "colab": {
          "base_uri": "https://localhost:8080/"
        },
        "collapsed": true,
        "id": "jLUAtFV6-qBs",
        "outputId": "1e249dd5-b574-407d-e0de-64ef3573d7f5"
      },
      "outputs": [
        {
          "output_type": "stream",
          "name": "stdout",
          "text": [
            "Requirement already satisfied: google-play-scraper in /usr/local/lib/python3.11/dist-packages (1.2.7)\n"
          ]
        }
      ],
      "source": [
        "!pip install google-play-scraper"
      ]
    },
    {
      "cell_type": "code",
      "source": [
        "# Mengimpor pustaka google_play_scraper untuk mengambil data ulasan dan informasi aplikasi dari Google Play Store.\n",
        "from google_play_scraper import app, reviews, Sort, reviews_all\n",
        "import pandas as pd"
      ],
      "metadata": {
        "id": "fxVHhD8j-133"
      },
      "execution_count": null,
      "outputs": []
    },
    {
      "cell_type": "code",
      "source": [
        "# Mengambil semua ulasan dari aplikasi PLN Mobile di Google Play Store.\n",
        "scraped_reviews = reviews_all(\n",
        "    'com.icon.pln123',       # ID aplikasi PLN Mobile\n",
        "    lang='id',               # Memilih bahasa ulasan\n",
        "    country='id',            # Memilih negara\n",
        "    sort=Sort.MOST_RELEVANT, # Sortir ulasan yang paling relevant\n",
        "    count=10000              # Jumlah ulasan yang ingin diambil\n",
        ")"
      ],
      "metadata": {
        "id": "_PaKV8dJ_FNe"
      },
      "execution_count": null,
      "outputs": []
    },
    {
      "cell_type": "code",
      "source": [
        "# Membuat DataFrame dari hasil scraping\n",
        "app_reviews_df = pd.DataFrame(scraped_reviews)\n",
        "\n",
        "# Menghitung jumlah baris dan kolom dalam DataFrame\n",
        "print(f\"Jumlah ulasan: {app_reviews_df.shape[0]}\")\n",
        "print(f\"Jumlah fitur: {app_reviews_df.shape[1]}\")"
      ],
      "metadata": {
        "colab": {
          "base_uri": "https://localhost:8080/"
        },
        "id": "4mgl50K4CR3m",
        "outputId": "a9d6caf9-be6c-489b-a057-17c4e2b49dd7"
      },
      "execution_count": null,
      "outputs": [
        {
          "output_type": "stream",
          "name": "stdout",
          "text": [
            "Jumlah ulasan: 157500\n",
            "Jumlah fitur: 11\n"
          ]
        }
      ]
    },
    {
      "cell_type": "code",
      "source": [
        "# Menyimpan DataFrame ke file CSV\n",
        "app_reviews_df.to_csv('pln_reviews.csv', index=False)"
      ],
      "metadata": {
        "id": "jcRfz6n4Dpc_"
      },
      "execution_count": null,
      "outputs": []
    },
    {
      "cell_type": "code",
      "source": [
        "score_counts = app_reviews_df['score'].value_counts()\n",
        "score_counts"
      ],
      "metadata": {
        "colab": {
          "base_uri": "https://localhost:8080/",
          "height": 272
        },
        "collapsed": true,
        "id": "BPDar5Y6TiaE",
        "outputId": "ced5e5a9-a9d3-4731-d490-ded58640a65b"
      },
      "execution_count": null,
      "outputs": [
        {
          "output_type": "execute_result",
          "data": {
            "text/plain": [
              "score\n",
              "5    133354\n",
              "1     13843\n",
              "4      4033\n",
              "3      3477\n",
              "2      2793\n",
              "Name: count, dtype: int64"
            ],
            "text/html": [
              "<div>\n",
              "<style scoped>\n",
              "    .dataframe tbody tr th:only-of-type {\n",
              "        vertical-align: middle;\n",
              "    }\n",
              "\n",
              "    .dataframe tbody tr th {\n",
              "        vertical-align: top;\n",
              "    }\n",
              "\n",
              "    .dataframe thead th {\n",
              "        text-align: right;\n",
              "    }\n",
              "</style>\n",
              "<table border=\"1\" class=\"dataframe\">\n",
              "  <thead>\n",
              "    <tr style=\"text-align: right;\">\n",
              "      <th></th>\n",
              "      <th>count</th>\n",
              "    </tr>\n",
              "    <tr>\n",
              "      <th>score</th>\n",
              "      <th></th>\n",
              "    </tr>\n",
              "  </thead>\n",
              "  <tbody>\n",
              "    <tr>\n",
              "      <th>5</th>\n",
              "      <td>133354</td>\n",
              "    </tr>\n",
              "    <tr>\n",
              "      <th>1</th>\n",
              "      <td>13843</td>\n",
              "    </tr>\n",
              "    <tr>\n",
              "      <th>4</th>\n",
              "      <td>4033</td>\n",
              "    </tr>\n",
              "    <tr>\n",
              "      <th>3</th>\n",
              "      <td>3477</td>\n",
              "    </tr>\n",
              "    <tr>\n",
              "      <th>2</th>\n",
              "      <td>2793</td>\n",
              "    </tr>\n",
              "  </tbody>\n",
              "</table>\n",
              "</div><br><label><b>dtype:</b> int64</label>"
            ]
          },
          "metadata": {},
          "execution_count": 13
        }
      ]
    },
    {
      "cell_type": "code",
      "source": [
        "# membuat DataFrame baru filtered_df yang hanya berisi baris dengan score 1, 2, 3, atau 4.\n",
        "filtered_df = app_reviews_df[app_reviews_df['score'].isin([1, 2, 3, 4])]"
      ],
      "metadata": {
        "id": "BQObF-0pTxbo"
      },
      "execution_count": null,
      "outputs": []
    },
    {
      "cell_type": "code",
      "source": [
        "n_samples = filtered_df.shape[0]  # Jumlah data score 1-4\n",
        "score_5_df = app_reviews_df[app_reviews_df['score'] == 5].sample(n=n_samples, random_state=42)\n",
        "\n",
        "balanced_df = pd.concat([filtered_df, score_5_df])\n",
        "print(balanced_df['score'].value_counts())"
      ],
      "metadata": {
        "colab": {
          "base_uri": "https://localhost:8080/"
        },
        "collapsed": true,
        "id": "yKsLifGkT6yI",
        "outputId": "c3369a6e-0d97-4715-e0fd-a9c1ea2ee4a2"
      },
      "execution_count": null,
      "outputs": [
        {
          "output_type": "stream",
          "name": "stdout",
          "text": [
            "score\n",
            "5    24146\n",
            "1    13843\n",
            "4     4033\n",
            "3     3477\n",
            "2     2793\n",
            "Name: count, dtype: int64\n"
          ]
        }
      ]
    },
    {
      "cell_type": "code",
      "source": [
        "# Menyimpan DataFrame yang sudah di undersampling ke file CSV\n",
        "balanced_df.to_csv('pln_mobile_reviews.csv', index=False)"
      ],
      "metadata": {
        "id": "9RVJYhBjWBIb"
      },
      "execution_count": null,
      "outputs": []
    }
  ]
}